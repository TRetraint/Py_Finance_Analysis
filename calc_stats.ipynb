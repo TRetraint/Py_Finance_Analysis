{
 "cells": [
  {
   "cell_type": "markdown",
   "metadata": {},
   "source": [
    "# Calculation of the Stats"
   ]
  },
  {
   "cell_type": "markdown",
   "metadata": {},
   "source": [
    "## Set up"
   ]
  },
  {
   "cell_type": "code",
   "execution_count": 8,
   "metadata": {},
   "outputs": [],
   "source": [
    "import pandas as pd\n",
    "import os"
   ]
  },
  {
   "cell_type": "markdown",
   "metadata": {},
   "source": [
    "## Read Data"
   ]
  },
  {
   "cell_type": "code",
   "execution_count": 9,
   "metadata": {},
   "outputs": [],
   "source": [
    "from utils import read_stock"
   ]
  },
  {
   "cell_type": "code",
   "execution_count": 10,
   "metadata": {},
   "outputs": [
    {
     "data": {
      "text/plain": [
       "3261"
      ]
     },
     "execution_count": 10,
     "metadata": {},
     "output_type": "execute_result"
    }
   ],
   "source": [
    "# path of the stocks folder containing the history\n",
    "PATH_STOCK = os.getcwd() + \"/stocks/\"\n",
    "\n",
    "# get the list of the files\n",
    "files_list = [file_name for file_name in os.listdir(PATH_STOCK)]\n",
    "# get the tickers\n",
    "tickers = [os.path.splitext(ticker)[0] for ticker in files_list]\n",
    "len(tickers)"
   ]
  },
  {
   "cell_type": "markdown",
   "metadata": {},
   "source": [
    "## Stats Collection"
   ]
  },
  {
   "cell_type": "markdown",
   "metadata": {},
   "source": [
    "1. Daily Returns"
   ]
  },
  {
   "cell_type": "code",
   "execution_count": 15,
   "metadata": {},
   "outputs": [],
   "source": [
    "def daily_return(df_stock: pd.DataFrame) -> pd.DataFrame:\n",
    "    \"\"\"\n",
    "    Function that calculate the daily return of a stock.\n",
    "\n",
    "    @param df_stock: df of a stock history extracted from yf.\n",
    "    @return: df with the daily return column added.\n",
    "    \"\"\"\n",
    "    df_stock[\"daily_return\"] = (df_stock[\"Close\"] / df_stock[\"Close\"].shift(1)) - 1\n",
    "    return df_stock"
   ]
  },
  {
   "cell_type": "markdown",
   "metadata": {},
   "source": [
    "2. Cumulative Returns"
   ]
  },
  {
   "cell_type": "code",
   "execution_count": 16,
   "metadata": {},
   "outputs": [],
   "source": [
    "def cum_return(df_stock: pd.DataFrame) -> pd.DataFrame:\n",
    "    \"\"\"\n",
    "    Function that calculate the cumulatice returns of a stock.\n",
    "    This function need to be executed on a df that is having the daily return column.\n",
    "\n",
    "    @param df_stock: df of a stock history.\n",
    "    @return: df with the cumulatice return column added.\n",
    "    \"\"\"\n",
    "    df_stock[\"cum_return\"] = (1 + df_stock[\"daily_return\"]).cumprod()\n",
    "    return df_stock"
   ]
  },
  {
   "cell_type": "markdown",
   "metadata": {},
   "source": [
    "3. Bollinger Bands"
   ]
  },
  {
   "cell_type": "code",
   "execution_count": 11,
   "metadata": {},
   "outputs": [],
   "source": [
    "def bollinger_bands(df_stock: pd.DataFrame,\n",
    "                    period: int = 20,\n",
    "                    std: float = 1.96) -> pd.DataFrame:\n",
    "    \"\"\"\n",
    "    Function that calculate the 3 bands of the Bollinger Bands.\n",
    "\n",
    "    @param df_stock: df of a stock history.\n",
    "    @param period: period to consider to calculate the bands.\n",
    "    @param std: Standard Deviation value to consider to calculate the bands.\n",
    "    @return: df with the 3 values of the 3 bands. \n",
    "    \"\"\"\n",
    "    df_stock[\"middle_band\"] = df_stock[\"Close\"].rolling(window=period).mean()\n",
    "    df_stock['upper_band'] = df_stock['middle_band'] + std * df_stock['Close'].rolling(window=period).std()\n",
    "    df_stock['lower_band'] = df_stock['middle_band'] - std * df_stock['Close'].rolling(window=period).std()\n",
    "    return df_stock"
   ]
  },
  {
   "cell_type": "markdown",
   "metadata": {},
   "source": [
    "4. Ichimoku"
   ]
  },
  {
   "cell_type": "code",
   "execution_count": 18,
   "metadata": {},
   "outputs": [],
   "source": [
    "def ichimoku(df_stock: pd.DataFrame,\n",
    "             short_period: int = 9,\n",
    "             long_period: int = 26) -> pd.DataFrame:\n",
    "    \"\"\"\n",
    "    Function that calculate the Ichimoku indicator.\n",
    "\n",
    "    @param df_stock: df of a stock history.\n",
    "    @param short_period: int that define the short period of the indicator\n",
    "    @param long_period: int that define the long period of the indicator\n",
    "    @return: df with the different columns added.\n",
    "    \"\"\"\n",
    "    high_val_short = df_stock[\"High\"].rolling(window=short_period).max()\n",
    "    low_val_short = df_stock[\"Low\"].rolling(window=short_period).min()\n",
    "    df_stock[\"conversion\"] = (high_val_short + low_val_short) / 2\n",
    "\n",
    "    high_val_long = df_stock[\"High\"].rolling(window=long_period).max()\n",
    "    low_val_long = df_stock[\"Low\"].rolling(window=long_period).min()\n",
    "    df_stock[\"baseline\"] = (high_val_long + low_val_long) / 2\n",
    "\n",
    "    df_stock[\"spanA\"] = ((df_stock[\"conversion\"] + df_stock[\"baseline\"]) / 2).shift(long_period)\n",
    "    high_val_2long = df_stock[\"High\"].rolling(window=2*long_period).max()\n",
    "    low_val_2long = df_stock[\"Low\"].rolling(window=2*long_period).min()\n",
    "    df_stock[\"spanB\"] = ((high_val_2long + low_val_2long) / 2).shift(long_period)\n",
    "\n",
    "    df_stock[\"lagging\"] = df_stock[\"Close\"].shift(-long_period)\n",
    "\n",
    "    return df_stock"
   ]
  },
  {
   "cell_type": "markdown",
   "metadata": {},
   "source": [
    "## Populating Stats to the ticker csv files"
   ]
  },
  {
   "cell_type": "code",
   "execution_count": null,
   "metadata": {},
   "outputs": [],
   "source": [
    "for ticker in tickers:\n",
    "    try:\n",
    "        print(\"Calculating on: {}\".format(ticker))\n",
    "        df_stock_updated = read_stock(ticker, PATH_STOCK)\n",
    "        df_stock_updated = daily_return(df_stock_updated)\n",
    "        df_stock_updated = cum_return(df_stock_updated)\n",
    "        df_stock_updated = bollinger_bands(df_stock_updated)\n",
    "        df_stock_updated = ichimoku(df_stock_updated)\n",
    "        df_stock_updated.to_csv(PATH_STOCK + ticker + \".csv\")\n",
    "        \n",
    "    except Exception as e:\n",
    "        print(e)"
   ]
  }
 ],
 "metadata": {
  "interpreter": {
   "hash": "dc044dbeba82771aaeccdb8770a998b04de1e1141a3b5ed0d819352aa1a1f7bf"
  },
  "kernelspec": {
   "display_name": "Python 3.10.2 64-bit",
   "language": "python",
   "name": "python3"
  },
  "language_info": {
   "codemirror_mode": {
    "name": "ipython",
    "version": 3
   },
   "file_extension": ".py",
   "mimetype": "text/x-python",
   "name": "python",
   "nbconvert_exporter": "python",
   "pygments_lexer": "ipython3",
   "version": "3.10.2"
  },
  "orig_nbformat": 4
 },
 "nbformat": 4,
 "nbformat_minor": 2
}
