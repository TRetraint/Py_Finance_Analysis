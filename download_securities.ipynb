{
 "cells": [
  {
   "cell_type": "markdown",
   "metadata": {},
   "source": [
    "# Download Securities"
   ]
  },
  {
   "cell_type": "markdown",
   "metadata": {},
   "source": [
    "## Set Up"
   ]
  },
  {
   "cell_type": "code",
   "execution_count": null,
   "metadata": {},
   "outputs": [],
   "source": [
    "# imports\n",
    "import os\n",
    "import time\n",
    "\n",
    "import pandas as pd\n",
    "import datetime as dt\n",
    "import yfinance as yf\n",
    "\n",
    "import warnings\n",
    "warnings.simplefilter(\"ignore\")"
   ]
  },
  {
   "cell_type": "markdown",
   "metadata": {},
   "source": [
    "## Constants"
   ]
  },
  {
   "cell_type": "code",
   "execution_count": null,
   "metadata": {},
   "outputs": [],
   "source": [
    "# path of the project\n",
    "PATH = os.getcwd()\n",
    "\n",
    "# Default start and end dates\n",
    "START = \"2017-02-01\"\n",
    "END = \"2022-01-30\"\n",
    "START_DATE = pd.to_datetime(START)\n",
    "END_DATE = pd.to_datetime(END)"
   ]
  },
  {
   "cell_type": "markdown",
   "metadata": {},
   "source": [
    "## Get Security Tickers and Download Data"
   ]
  },
  {
   "cell_type": "code",
   "execution_count": null,
   "metadata": {},
   "outputs": [],
   "source": [
    "def save_to_csv(folder: str, ticker: str, start: dt.datetime, end: dt.datetime) -> None:\n",
    "    \"\"\"\n",
    "    Function that download and save the data to a tick into a csv file.\n",
    "\n",
    "    @param folder: path to save the .csv file in.\n",
    "    @param ticker: ticker to retreive the data of.\n",
    "    @param start: start date.\n",
    "    @param end: end date.\n",
    "    \"\"\"\n",
    "    try:\n",
    "        stock = yf.Ticker(ticker)   #get the sotck data from yf\n",
    "        print(\"Get data of {}\".format(ticker))\n",
    "        df = stock.history(start=start, end=end)  # get stock history in a df format\n",
    "        \n",
    "        time.sleep(1)   # add sleep to avoid yfinance ban\n",
    "\n",
    "        data_file = folder + ticker.replace(\".\", \"_\") + \".csv\"  # format output file name\n",
    "        df.to_csv(data_file)   # save the file\n",
    "\n",
    "    except Exception as e:\n",
    "        print(\"Couldn't get data for: {}\".format(ticker))"
   ]
  },
  {
   "cell_type": "code",
   "execution_count": null,
   "metadata": {},
   "outputs": [],
   "source": [
    "df_securities = pd.read_csv(PATH + \"/Securities_Ticks.csv\")\n",
    "for _, row in df_securities.iterrows():\n",
    "    save_to_csv(PATH + \"/stocks/\", row[\"Ticker\"], START_DATE, END_DATE)"
   ]
  }
 ],
 "metadata": {
  "interpreter": {
   "hash": "dc044dbeba82771aaeccdb8770a998b04de1e1141a3b5ed0d819352aa1a1f7bf"
  },
  "kernelspec": {
   "display_name": "Python 3.10.2 64-bit",
   "language": "python",
   "name": "python3"
  },
  "language_info": {
   "codemirror_mode": {
    "name": "ipython",
    "version": 3
   },
   "file_extension": ".py",
   "mimetype": "text/x-python",
   "name": "python",
   "nbconvert_exporter": "python",
   "pygments_lexer": "ipython3",
   "version": "3.10.2"
  },
  "orig_nbformat": 4
 },
 "nbformat": 4,
 "nbformat_minor": 2
}
