{
 "cells": [
  {
   "cell_type": "markdown",
   "metadata": {},
   "source": [
    "# Plot Notebook"
   ]
  },
  {
   "cell_type": "markdown",
   "metadata": {},
   "source": [
    "## Set up"
   ]
  },
  {
   "cell_type": "code",
   "execution_count": null,
   "metadata": {},
   "outputs": [],
   "source": [
    "import os\n",
    "import pandas as pd\n",
    "import numpy as np\n",
    "import matplotlib.pyplot as pls\n",
    "import matplotlib.dates as mdates\n",
    "%matplotlib inline\n",
    "\n",
    "from utils import read_stock\n",
    "\n",
    "import plotly.express as px\n",
    "import plotly.graph_objects as go"
   ]
  },
  {
   "cell_type": "markdown",
   "metadata": {},
   "source": [
    "## Constants"
   ]
  },
  {
   "cell_type": "code",
   "execution_count": null,
   "metadata": {},
   "outputs": [],
   "source": [
    "PATH_STOCK = os.getcwd() + \"/stocks/\""
   ]
  },
  {
   "cell_type": "markdown",
   "metadata": {},
   "source": [
    "## Plot Bollinger Bands"
   ]
  },
  {
   "cell_type": "code",
   "execution_count": null,
   "metadata": {},
   "outputs": [],
   "source": [
    "def plot_bollinger_bands(df_stock: pd.DataFrame, ticker: str) -> None:\n",
    "    \"\"\"\n",
    "    Function to plot Bollinger Bands.\n",
    "\n",
    "    @param df_stock: df with the stats calculated\n",
    "    @param ticker: Ticker of the stock to plot.\n",
    "    @return: None\n",
    "    \"\"\"\n",
    "    fig = go.Figure()\n",
    "\n",
    "    candle = go.Candlestick(x=df_stock.index,\n",
    "                            open=df_stock[\"Open\"],\n",
    "                            high=df_stock['High'], \n",
    "                            low=df_stock['Low'],\n",
    "                            close=df_stock['Close'], \n",
    "                            name=\"Candlestick\")\n",
    "\n",
    "    upper_line = go.Scatter(x=df_stock.index,\n",
    "                            y=df_stock['upper_band'],\n",
    "                            line=dict(color='rgba(250, 0, 0, 0.75)',width=1),\n",
    "                            name=\"Upper Band\")\n",
    "    \n",
    "    mid_line = go.Scatter(x=df_stock.index,\n",
    "                          y=df_stock['middle_band'],\n",
    "                          line=dict(color='rgba(0, 0, 250, 0.75)', width=0.7),\n",
    "                          name=\"Middle Band\")\n",
    "\n",
    "    lower_line = go.Scatter(x=df_stock.index,\n",
    "                            y=df_stock['lower_band'], \n",
    "                            line=dict(color='rgba(0, 250, 0, 0.75)', width=1), \n",
    "                            name=\"Lower Band\")\n",
    "\n",
    "    fig.add_trace(candle)\n",
    "    fig.add_trace(upper_line)\n",
    "    fig.add_trace(mid_line)\n",
    "    fig.add_trace(lower_line)\n",
    "\n",
    "    fig.update_xaxes(title=\"Date\", rangeslider_visible=True)\n",
    "    fig.update_yaxes(title=\"Price\")\n",
    "    \n",
    "    fig.update_layout(title=ticker + \" Bollinger Bands\",\n",
    "    height=1200, width=1800, showlegend=True)\n",
    "    fig.show()\n"
   ]
  },
  {
   "cell_type": "code",
   "execution_count": null,
   "metadata": {},
   "outputs": [],
   "source": [
    "ticker = \"AAPL\"\n",
    "plot_bollinger_bands(read_stock(ticker, PATH_STOCK),ticker)"
   ]
  },
  {
   "cell_type": "markdown",
   "metadata": {},
   "source": [
    "## Ichimoku"
   ]
  },
  {
   "cell_type": "code",
   "execution_count": null,
   "metadata": {},
   "outputs": [],
   "source": [
    "# Used to generate the red and green fill for the Ichimoku cloud\n",
    "def get_fill_color(label):\n",
    "    if label >= 1:\n",
    "        return 'rgba(0,250,0,0.4)'\n",
    "    else:\n",
    "        return 'rgba(250,0,0,0.4)'"
   ]
  },
  {
   "cell_type": "code",
   "execution_count": null,
   "metadata": {},
   "outputs": [],
   "source": [
    "def plot_ichimoku(df_stock: pd.DataFrame) -> None:\n",
    "    \"\"\"\n",
    "    Function to plot Ichimoku.\n",
    "\n",
    "    @param df_stock: df with all the stats calculated.\n",
    "    @return: None.\n",
    "    \"\"\"\n",
    "    candle = go.Candlestick(x=df_stock.index, \n",
    "                            open=df_stock['Open'],\n",
    "                            high=df_stock['High'],\n",
    "                            low=df_stock[\"Low\"],\n",
    "                            close=df_stock['Close'],\n",
    "                            name=\"Candlestick\")\n",
    "\n",
    "    df1 = df_stock.copy()\n",
    "    fig = go.Figure()\n",
    "    df_stock['label'] = np.where(df_stock['spanA'] > df_stock['spanB'], 1, 0)\n",
    "    df_stock['group'] = df_stock['label'].ne(df_stock['label'].shift()).cumsum()\n",
    "\n",
    "    df_stock = df_stock.groupby('group')\n",
    "\n",
    "    dfs = []\n",
    "    for name, data in df_stock:\n",
    "        dfs.append(data)\n",
    "\n",
    "    for df in dfs:\n",
    "        fig.add_traces(go.Scatter(x=df.index, y=df.spanA,\n",
    "        line=dict(color='rgba(0,0,0,0)')))\n",
    "\n",
    "        fig.add_traces(go.Scatter(x=df.index, y=df.spanB,\n",
    "        line=dict(color='rgba(0,0,0,0)'),\n",
    "        fill='tonexty',\n",
    "        fillcolor=get_fill_color(df['label'].iloc[0])))\n",
    "\n",
    "    baseline = go.Scatter(x=df1.index, y=df1['baseline'], \n",
    "    line=dict(color='pink', width=2), name=\"Baseline\")\n",
    "\n",
    "    conversion = go.Scatter(x=df1.index, y=df1['conversion'], \n",
    "    line=dict(color='black', width=1), name=\"Conversion\")\n",
    "\n",
    "    lagging = go.Scatter(x=df1.index, y=df1['lagging'], \n",
    "    line=dict(color='purple', width=2), name=\"Lagging\")\n",
    "\n",
    "    span_a = go.Scatter(x=df1.index, y=df1['spanA'], \n",
    "    line=dict(color='green', width=2, dash='dot'), name=\"Span A\")\n",
    "\n",
    "    span_b = go.Scatter(x=df1.index, y=df1['spanB'], \n",
    "    line=dict(color='red', width=1, dash='dot'), name=\"Span B\")\n",
    "\n",
    "    fig.add_trace(candle)\n",
    "    fig.add_trace(baseline)\n",
    "    fig.add_trace(conversion)\n",
    "    fig.add_trace(lagging)\n",
    "    fig.add_trace(span_a)\n",
    "    fig.add_trace(span_b)\n",
    "    \n",
    "    fig.update_layout(height=1200, width=1800, showlegend=True)\n",
    "\n",
    "    fig.show()"
   ]
  },
  {
   "cell_type": "code",
   "execution_count": null,
   "metadata": {},
   "outputs": [],
   "source": [
    "ticker = \"AAPL\"\n",
    "plot_ichimoku(read_stock(ticker, PATH_STOCK))"
   ]
  }
 ],
 "metadata": {
  "interpreter": {
   "hash": "dc044dbeba82771aaeccdb8770a998b04de1e1141a3b5ed0d819352aa1a1f7bf"
  },
  "kernelspec": {
   "display_name": "Python 3.10.2 64-bit",
   "language": "python",
   "name": "python3"
  },
  "language_info": {
   "codemirror_mode": {
    "name": "ipython",
    "version": 3
   },
   "file_extension": ".py",
   "mimetype": "text/x-python",
   "name": "python",
   "nbconvert_exporter": "python",
   "pygments_lexer": "ipython3",
   "version": "3.10.2"
  },
  "orig_nbformat": 4
 },
 "nbformat": 4,
 "nbformat_minor": 2
}
