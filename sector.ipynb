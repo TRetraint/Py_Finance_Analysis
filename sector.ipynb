{
 "cells": [
  {
   "cell_type": "markdown",
   "metadata": {},
   "source": [
    "# Sector"
   ]
  },
  {
   "cell_type": "markdown",
   "metadata": {},
   "source": [
    "## Set up"
   ]
  },
  {
   "cell_type": "code",
   "execution_count": null,
   "metadata": {},
   "outputs": [],
   "source": [
    "import pandas as pd\n",
    "import os\n",
    "\n",
    "from utils import read_stock, read_sector"
   ]
  },
  {
   "cell_type": "markdown",
   "metadata": {},
   "source": [
    "## Constants"
   ]
  },
  {
   "cell_type": "code",
   "execution_count": null,
   "metadata": {},
   "outputs": [],
   "source": [
    "# path of the project\n",
    "PATH = os.getcwd()\n",
    "\n",
    "# Default start and end dates\n",
    "START = \"2017-02-01\"\n",
    "END = \"2022-01-30\"\n",
    "START_DATE = pd.to_datetime(START)\n",
    "END_DATE = pd.to_datetime(END)"
   ]
  },
  {
   "cell_type": "markdown",
   "metadata": {},
   "source": [
    "## Get Sector Stocks"
   ]
  },
  {
   "cell_type": "code",
   "execution_count": null,
   "metadata": {},
   "outputs": [],
   "source": [
    "sector_df = read_sector(PATH + \"/stock_sectors.csv\")\n",
    "\n",
    "# split the df into the different sector.\n",
    "indus_df = sector_df.loc[sector_df['Sector'] == \"Industrial\"]\n",
    "health_df = sector_df.loc[sector_df['Sector'] == \"Healthcare\"]\n",
    "it_df = sector_df.loc[sector_df['Sector'] == \"Information Technology\"]\n",
    "comm_df = sector_df.loc[sector_df['Sector'] == \"Communication\"]\n",
    "staple_df = sector_df.loc[sector_df['Sector'] == \"Staples\"]\n",
    "utility_df = sector_df.loc[sector_df['Sector'] == \"Utilities\"]\n",
    "financial_df = sector_df.loc[sector_df['Sector'] == \"Financials\"]\n",
    "material_df = sector_df.loc[sector_df['Sector'] == \"Materials\"]\n",
    "restate_df = sector_df.loc[sector_df['Sector'] == \"Real Estate\"]\n",
    "energy_df = sector_df.loc[sector_df['Sector'] == \"Energy\"]"
   ]
  },
  {
   "cell_type": "code",
   "execution_count": null,
   "metadata": {},
   "outputs": [],
   "source": [
    "def get_cum_ret_for_stocks(stock_df):\n",
    "    tickers = []\n",
    "    cum_rets = []\n",
    "\n",
    "    for _, row in stock_df.iterrows():\n",
    "        df = read_stock(row.name, PATH + \"/stocks/\")\n",
    "\n",
    "        if df is None:\n",
    "            pass\n",
    "        else:\n",
    "            tickers.append(row.name)\n",
    "            cum = df['cum_return'].iloc[-1]\n",
    "            cum_rets.append(cum)\n",
    "    return pd.DataFrame({'Ticker':tickers, 'CUM_RET':cum_rets})"
   ]
  },
  {
   "cell_type": "code",
   "execution_count": null,
   "metadata": {},
   "outputs": [],
   "source": [
    "industrial = get_cum_ret_for_stocks(indus_df)\n",
    "health_care = get_cum_ret_for_stocks(health_df)\n",
    "it = get_cum_ret_for_stocks(it_df)\n",
    "commun = get_cum_ret_for_stocks(comm_df)\n",
    "staple = get_cum_ret_for_stocks(staple_df)\n",
    "utility = get_cum_ret_for_stocks(utility_df)\n",
    "finance = get_cum_ret_for_stocks(financial_df)\n",
    "material = get_cum_ret_for_stocks(material_df)\n",
    "restate = get_cum_ret_for_stocks(restate_df)\n",
    "energy = get_cum_ret_for_stocks(energy_df)"
   ]
  },
  {
   "cell_type": "markdown",
   "metadata": {},
   "source": [
    "## Top Industrials"
   ]
  },
  {
   "cell_type": "code",
   "execution_count": null,
   "metadata": {},
   "outputs": [],
   "source": [
    "industrial.sort_values(by=['CUM_RET'], ascending=False).head(10)"
   ]
  },
  {
   "cell_type": "markdown",
   "metadata": {},
   "source": [
    "## Top Healthcare"
   ]
  },
  {
   "cell_type": "code",
   "execution_count": null,
   "metadata": {},
   "outputs": [],
   "source": [
    "health_care.sort_values(by=['CUM_RET'], ascending=False).head(10)"
   ]
  },
  {
   "cell_type": "markdown",
   "metadata": {},
   "source": [
    "## Top IT"
   ]
  },
  {
   "cell_type": "code",
   "execution_count": null,
   "metadata": {},
   "outputs": [],
   "source": [
    "it.sort_values(by=['CUM_RET'], ascending=False).head(10)"
   ]
  },
  {
   "cell_type": "markdown",
   "metadata": {},
   "source": [
    "## Top Coms"
   ]
  },
  {
   "cell_type": "code",
   "execution_count": null,
   "metadata": {},
   "outputs": [],
   "source": [
    "commun.sort_values(by=['CUM_RET'], ascending=False).head(10)"
   ]
  },
  {
   "cell_type": "markdown",
   "metadata": {},
   "source": [
    "## Top Staples"
   ]
  },
  {
   "cell_type": "code",
   "execution_count": null,
   "metadata": {},
   "outputs": [],
   "source": [
    "staple.sort_values(by=['CUM_RET'], ascending=False).head(10)"
   ]
  },
  {
   "cell_type": "markdown",
   "metadata": {},
   "source": [
    "## Top Utilities"
   ]
  },
  {
   "cell_type": "code",
   "execution_count": null,
   "metadata": {},
   "outputs": [],
   "source": [
    "utility.sort_values(by=['CUM_RET'], ascending=False).head(10)"
   ]
  },
  {
   "cell_type": "markdown",
   "metadata": {},
   "source": [
    "## Top Finance"
   ]
  },
  {
   "cell_type": "code",
   "execution_count": null,
   "metadata": {},
   "outputs": [],
   "source": [
    "finance.sort_values(by=['CUM_RET'], ascending=False).head(10)"
   ]
  },
  {
   "cell_type": "markdown",
   "metadata": {},
   "source": [
    "## Top Materials"
   ]
  },
  {
   "cell_type": "code",
   "execution_count": null,
   "metadata": {},
   "outputs": [],
   "source": [
    "material.sort_values(by=['CUM_RET'], ascending=False).head(10)"
   ]
  },
  {
   "cell_type": "markdown",
   "metadata": {},
   "source": [
    "## Top Real Estate"
   ]
  },
  {
   "cell_type": "code",
   "execution_count": null,
   "metadata": {},
   "outputs": [],
   "source": [
    "restate.sort_values(by=['CUM_RET'], ascending=False).head(10)"
   ]
  },
  {
   "cell_type": "markdown",
   "metadata": {},
   "source": [
    "## Top Energy"
   ]
  },
  {
   "cell_type": "code",
   "execution_count": null,
   "metadata": {},
   "outputs": [],
   "source": [
    "energy.sort_values(by=['CUM_RET'], ascending=False).head(10)"
   ]
  }
 ],
 "metadata": {
  "interpreter": {
   "hash": "dc044dbeba82771aaeccdb8770a998b04de1e1141a3b5ed0d819352aa1a1f7bf"
  },
  "kernelspec": {
   "display_name": "Python 3.10.2 64-bit",
   "language": "python",
   "name": "python3"
  },
  "language_info": {
   "codemirror_mode": {
    "name": "ipython",
    "version": 3
   },
   "file_extension": ".py",
   "mimetype": "text/x-python",
   "name": "python",
   "nbconvert_exporter": "python",
   "pygments_lexer": "ipython3",
   "version": "3.10.2"
  },
  "orig_nbformat": 4
 },
 "nbformat": 4,
 "nbformat_minor": 2
}
